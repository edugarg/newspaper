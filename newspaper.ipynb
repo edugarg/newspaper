{
 "cells": [
  {
   "cell_type": "code",
   "execution_count": 2,
   "metadata": {},
   "outputs": [
    {
     "data": {
      "text/plain": [
       "Counter({'': 1})"
      ]
     },
     "execution_count": 2,
     "metadata": {},
     "output_type": "execute_result"
    }
   ],
   "source": [
    "%load_ext autoreload\n",
    "%autoreload 2\n",
    "\n",
    "import ej1 #importo todo el paquete y tengo que instanciar las funciones con el nombre\n",
    "\n",
    "ej1.body(\"http://foo.com\")"
   ]
  },
  {
   "cell_type": "code",
   "execution_count": 3,
   "metadata": {},
   "outputs": [
    {
     "data": {
      "text/plain": [
       "{'casa': 3, 'perro': 5}"
      ]
     },
     "execution_count": 3,
     "metadata": {},
     "output_type": "execute_result"
    }
   ],
   "source": [
    "from ej1 import body #no necesito especificar el nombre del objeto\n",
    "\n",
    "body(\"http://var.com\")"
   ]
  },
  {
   "cell_type": "code",
   "execution_count": 4,
   "metadata": {},
   "outputs": [
    {
     "data": {
      "text/plain": [
       "Counter({'casa': 2, 'perro': 2, 'gato': 1})"
      ]
     },
     "execution_count": 4,
     "metadata": {},
     "output_type": "execute_result"
    }
   ],
   "source": [
    "ej1.body([\"casa\",\"casa\",\"perro\",\"gato\",\"perro\"])"
   ]
  },
  {
   "cell_type": "code",
   "execution_count": 17,
   "metadata": {},
   "outputs": [],
   "source": []
  },
  {
   "cell_type": "code",
   "execution_count": 7,
   "metadata": {},
   "outputs": [
    {
     "data": {
      "text/plain": [
       "Counter({'Images': 1,\n",
       "         'of': 3,\n",
       "         'President': 1,\n",
       "         'Recep': 1,\n",
       "         'Tayyip': 1,\n",
       "         'Erdogan': 1,\n",
       "         'Turkey': 2,\n",
       "         'at': 1,\n",
       "         'a': 1,\n",
       "         'refugee': 1,\n",
       "         'camp': 1,\n",
       "         'for': 2,\n",
       "         'Syrians': 1,\n",
       "         'on': 1,\n",
       "         'the': 1,\n",
       "         'outskirts': 1,\n",
       "         'Kahramanmaras': 1,\n",
       "         'in': 1,\n",
       "         'southeastern': 1,\n",
       "         'Credit': 1,\n",
       "         'Mauricio': 1,\n",
       "         'Lima': 1,\n",
       "         'The': 1,\n",
       "         'New': 1,\n",
       "         'York': 1,\n",
       "         'Times': 1})"
      ]
     },
     "execution_count": 7,
     "metadata": {},
     "output_type": "execute_result"
    }
   ],
   "source": [
    "ej1.body(\"https://www.nytimes.com/2019/09/10/world/middleeast/turkey-syria-refugees-erdogan.html\")"
   ]
  },
  {
   "cell_type": "code",
   "execution_count": null,
   "metadata": {},
   "outputs": [],
   "source": []
  }
 ],
 "metadata": {
  "kernelspec": {
   "display_name": "Python 3.7.4 (curso_PAE)",
   "language": "python",
   "name": "curso_pae"
  },
  "language_info": {
   "codemirror_mode": {
    "name": "ipython",
    "version": 3
   },
   "file_extension": ".py",
   "mimetype": "text/x-python",
   "name": "python",
   "nbconvert_exporter": "python",
   "pygments_lexer": "ipython3",
   "version": "3.7.4"
  }
 },
 "nbformat": 4,
 "nbformat_minor": 2
}
